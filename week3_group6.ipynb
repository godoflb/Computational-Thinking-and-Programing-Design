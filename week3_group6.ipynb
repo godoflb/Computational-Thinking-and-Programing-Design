{
  "nbformat": 4,
  "nbformat_minor": 0,
  "metadata": {
    "colab": {
      "name": "week3-group6.ipynb",
      "provenance": []
    },
    "kernelspec": {
      "name": "python3",
      "display_name": "Python 3"
    }
  },
  "cells": [
    {
      "cell_type": "code",
      "metadata": {
        "id": "d0AlNe3SIgqV",
        "colab_type": "code",
        "outputId": "e3b35564-86b6-4385-89da-62abf1743df6",
        "colab": {
          "base_uri": "https://localhost:8080/",
          "height": 34
        }
      },
      "source": [
        "print(\"Hello World\")"
      ],
      "execution_count": 0,
      "outputs": [
        {
          "output_type": "stream",
          "text": [
            "Hello World\n"
          ],
          "name": "stdout"
        }
      ]
    },
    {
      "cell_type": "code",
      "metadata": {
        "id": "6AKCzQylQBQt",
        "colab_type": "code",
        "outputId": "bc00ef0b-77f9-487f-b029-86bd227334ea",
        "colab": {
          "base_uri": "https://localhost:8080/",
          "height": 34
        }
      },
      "source": [
        "print(\"我是陳俊豪\")"
      ],
      "execution_count": 0,
      "outputs": [
        {
          "output_type": "stream",
          "text": [
            "我是陳俊豪\n"
          ],
          "name": "stdout"
        }
      ]
    },
    {
      "cell_type": "code",
      "metadata": {
        "id": "cQs7OyM2K3KR",
        "colab_type": "code",
        "colab": {}
      },
      "source": [
        "print(\"我是翁偉倫\")"
      ],
      "execution_count": 0,
      "outputs": []
    },
    {
      "cell_type": "code",
      "metadata": {
        "id": "WVfwkiTgQo5w",
        "colab_type": "code",
        "colab": {
          "base_uri": "https://localhost:8080/",
          "height": 34
        },
        "outputId": "c5f8f42f-fd19-48b9-f70d-cb8a0d6489eb"
      },
      "source": [
        "print(\"哈ㄌㄡ\")"
      ],
      "execution_count": 2,
      "outputs": [
        {
          "output_type": "stream",
          "text": [
            "哈ㄌㄡ\n"
          ],
          "name": "stdout"
        }
      ]
    }
  ]
}